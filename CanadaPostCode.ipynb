{
 "cells": [
  {
   "cell_type": "code",
   "execution_count": null,
   "metadata": {},
   "outputs": [],
   "source": [
    "!conda install -c conda-forge BeautifulSoup4 --yes"
   ]
  },
  {
   "cell_type": "code",
   "execution_count": 2,
   "metadata": {},
   "outputs": [
    {
     "name": "stdout",
     "output_type": "stream",
     "text": [
      "Collecting package metadata (current_repodata.json): done\n",
      "Solving environment: done\n",
      "\n",
      "## Package Plan ##\n",
      "\n",
      "  environment location: /home/jupyterlab/conda/envs/python\n",
      "\n",
      "  added / updated specs:\n",
      "    - lxml\n",
      "\n",
      "\n",
      "The following packages will be downloaded:\n",
      "\n",
      "    package                    |            build\n",
      "    ---------------------------|-----------------\n",
      "    libxslt-1.1.33             |       h7d1a2b0_0         426 KB\n",
      "    lxml-3.8.0                 |           py36_0         3.8 MB  conda-forge\n",
      "    ------------------------------------------------------------\n",
      "                                           Total:         4.2 MB\n",
      "\n",
      "The following NEW packages will be INSTALLED:\n",
      "\n",
      "  libxslt            pkgs/main/linux-64::libxslt-1.1.33-h7d1a2b0_0\n",
      "  lxml               conda-forge/linux-64::lxml-3.8.0-py36_0\n",
      "\n",
      "\n",
      "\n",
      "Downloading and Extracting Packages\n",
      "lxml-3.8.0           | 3.8 MB    | ##################################### | 100% \n",
      "libxslt-1.1.33       | 426 KB    | ##################################### | 100% \n",
      "Preparing transaction: done\n",
      "Verifying transaction: done\n",
      "Executing transaction: done\n"
     ]
    }
   ],
   "source": [
    "!conda install -c conda-forge lxml --yes"
   ]
  },
  {
   "cell_type": "code",
   "execution_count": 3,
   "metadata": {},
   "outputs": [
    {
     "name": "stdout",
     "output_type": "stream",
     "text": [
      "Collecting package metadata (current_repodata.json): done\n",
      "Solving environment: done\n",
      "\n",
      "# All requested packages already installed.\n",
      "\n"
     ]
    }
   ],
   "source": [
    "!conda install -c conda-forge html5lib --yes"
   ]
  },
  {
   "cell_type": "code",
   "execution_count": 4,
   "metadata": {},
   "outputs": [
    {
     "name": "stdout",
     "output_type": "stream",
     "text": [
      "Collecting package metadata (current_repodata.json): done\n",
      "Solving environment: done\n",
      "\n",
      "# All requested packages already installed.\n",
      "\n"
     ]
    }
   ],
   "source": [
    "!conda install -c conda-forge requests --yes"
   ]
  },
  {
   "cell_type": "code",
   "execution_count": 1,
   "metadata": {},
   "outputs": [],
   "source": [
    "from bs4 import BeautifulSoup\n",
    "import requests\n",
    "import pandas as pd"
   ]
  },
  {
   "cell_type": "code",
   "execution_count": 2,
   "metadata": {},
   "outputs": [],
   "source": [
    "page = requests.get('https://en.wikipedia.org/wiki/List_of_postal_codes_of_Canada:_M')\n",
    "html_file = page.content\n",
    "# with open('https://en.wikipedia.org/wiki/List_of_postal_codes_of_Canada:_M') as html_file:\n",
    "soup = BeautifulSoup(html_file, 'lxml')\n",
    "\n",
    "# print(soup.prettify())"
   ]
  },
  {
   "cell_type": "code",
   "execution_count": 93,
   "metadata": {},
   "outputs": [
    {
     "name": "stdout",
     "output_type": "stream",
     "text": [
      "    Postal code            Borough  \\\n",
      "0          M1A       Not assigned    \n",
      "1          M2A       Not assigned    \n",
      "2          M3A         North York    \n",
      "3          M4A         North York    \n",
      "4          M5A   Downtown Toronto    \n",
      "..          ...                ...   \n",
      "175        M5Z       Not assigned    \n",
      "176        M6Z       Not assigned    \n",
      "177        M7Z       Not assigned    \n",
      "178        M8Z          Etobicoke    \n",
      "179        M9Z       Not assigned    \n",
      "\n",
      "                                          Neighborhood  \n",
      "0                                                       \n",
      "1                                                       \n",
      "2                                           Parkwoods   \n",
      "3                                    Victoria Village   \n",
      "4                          Regent Park / Harbourfront   \n",
      "..                                                 ...  \n",
      "175                                                     \n",
      "176                                                     \n",
      "177                                                     \n",
      "178  Mimico NW / The Queensway West / South of Bloo...  \n",
      "179                                                     \n",
      "\n",
      "[180 rows x 3 columns]\n"
     ]
    }
   ],
   "source": [
    "My_table = soup.find('table',{'class':'wikitable'})\n",
    "table_rows = table.find_all('tr')\n",
    "row_data = []\n",
    "\n",
    "for tr in table_rows:\n",
    "    td = tr.find_all('td')\n",
    "    row = [i.text for i in td]\n",
    "    row_data.append(row)\n",
    "    \n",
    "# print(row_data)\n",
    "  \n",
    "df = pd.DataFrame()\n",
    "df = row_data\n",
    "df[0] = table.find_all('th')\n",
    "\n",
    "t = []\n",
    "for tt in df[0]:\n",
    "    tt = str(tt).replace('<th>','')\n",
    "    tt = str(tt).replace('</th>','')\n",
    "    tt = str(tt).replace('\\n','')\n",
    "    t.append(tt)\n",
    "\n",
    "# df = str(df)\n",
    "\n",
    "df2 = pd.DataFrame(df[1:len(df)], columns=t)\n",
    "df2 = df2.replace('\\n',' ', regex=True)\n",
    "\n",
    "print(df2)"
   ]
  },
  {
   "cell_type": "code",
   "execution_count": 94,
   "metadata": {},
   "outputs": [
    {
     "name": "stdout",
     "output_type": "stream",
     "text": [
      "    Postal code            Borough  \\\n",
      "2          M3A         North York    \n",
      "3          M4A         North York    \n",
      "4          M5A   Downtown Toronto    \n",
      "5          M6A         North York    \n",
      "6          M7A   Downtown Toronto    \n",
      "..          ...                ...   \n",
      "160        M8X          Etobicoke    \n",
      "165        M4Y   Downtown Toronto    \n",
      "168        M7Y       East Toronto    \n",
      "169        M8Y          Etobicoke    \n",
      "178        M8Z          Etobicoke    \n",
      "\n",
      "                                          Neighborhood  \n",
      "2                                           Parkwoods   \n",
      "3                                    Victoria Village   \n",
      "4                          Regent Park / Harbourfront   \n",
      "5                   Lawrence Manor / Lawrence Heights   \n",
      "6        Queen's Park / Ontario Provincial Government   \n",
      "..                                                 ...  \n",
      "160  The Kingsway / Montgomery Road  / Old Mill North   \n",
      "165                              Church and Wellesley   \n",
      "168             Business reply mail Processing CentrE   \n",
      "169  Old Mill South / King's Mill Park / Sunnylea /...  \n",
      "178  Mimico NW / The Queensway West / South of Bloo...  \n",
      "\n",
      "[103 rows x 3 columns]\n"
     ]
    }
   ],
   "source": [
    "na = df2.iloc[0]['Borough']\n",
    "\n",
    "for i in range (len(df2)-1, -1, -1):\n",
    "    if df2.iloc[i]['Borough'] == na:\n",
    "        df2.drop(index=i, inplace = True)\n",
    "\n",
    "df2.reset_index()\n",
    "print(df2)"
   ]
  },
  {
   "cell_type": "code",
   "execution_count": 101,
   "metadata": {},
   "outputs": [
    {
     "name": "stdout",
     "output_type": "stream",
     "text": [
      "    Postal code            Borough  \\\n",
      "0          M3A         North York    \n",
      "1          M4A         North York    \n",
      "2          M5A   Downtown Toronto    \n",
      "3          M6A         North York    \n",
      "4          M7A   Downtown Toronto    \n",
      "..          ...                ...   \n",
      "98         M8X          Etobicoke    \n",
      "99         M4Y   Downtown Toronto    \n",
      "100        M7Y       East Toronto    \n",
      "101        M8Y          Etobicoke    \n",
      "102        M8Z          Etobicoke    \n",
      "\n",
      "                                          Neighborhood  \n",
      "0                                           Parkwoods   \n",
      "1                                    Victoria Village   \n",
      "2                          Regent Park / Harbourfront   \n",
      "3                   Lawrence Manor / Lawrence Heights   \n",
      "4        Queen's Park / Ontario Provincial Government   \n",
      "..                                                 ...  \n",
      "98   The Kingsway / Montgomery Road  / Old Mill North   \n",
      "99                               Church and Wellesley   \n",
      "100             Business reply mail Processing CentrE   \n",
      "101  Old Mill South / King's Mill Park / Sunnylea /...  \n",
      "102  Mimico NW / The Queensway West / South of Bloo...  \n",
      "\n",
      "[103 rows x 3 columns]\n"
     ]
    }
   ],
   "source": [
    "df2.reset_index(inplace = True)\n",
    "#df2.drop(['level_0','index'], axis=1, inplace = True)\n",
    "print(df2)"
   ]
  }
 ],
 "metadata": {
  "kernelspec": {
   "display_name": "Python",
   "language": "python",
   "name": "conda-env-python-py"
  },
  "language_info": {
   "codemirror_mode": {
    "name": "ipython",
    "version": 3
   },
   "file_extension": ".py",
   "mimetype": "text/x-python",
   "name": "python",
   "nbconvert_exporter": "python",
   "pygments_lexer": "ipython3",
   "version": "3.6.10"
  }
 },
 "nbformat": 4,
 "nbformat_minor": 4
}
