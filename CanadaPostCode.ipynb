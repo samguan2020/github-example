{
 "cells": [
  {
   "cell_type": "code",
   "execution_count": 2,
   "metadata": {},
   "outputs": [
    {
     "name": "stdout",
     "output_type": "stream",
     "text": [
      "Collecting package metadata (current_repodata.json): done\n",
      "Solving environment: done\n",
      "\n",
      "## Package Plan ##\n",
      "\n",
      "  environment location: /home/jupyterlab/conda/envs/python\n",
      "\n",
      "  added / updated specs:\n",
      "    - beautifulsoup4\n",
      "\n",
      "\n",
      "The following packages will be downloaded:\n",
      "\n",
      "    package                    |            build\n",
      "    ---------------------------|-----------------\n",
      "    beautifulsoup4-4.9.0       |   py36h9f0ad1d_0         160 KB  conda-forge\n",
      "    soupsieve-1.9.4            |   py36h9f0ad1d_1          58 KB  conda-forge\n",
      "    ------------------------------------------------------------\n",
      "                                           Total:         218 KB\n",
      "\n",
      "The following NEW packages will be INSTALLED:\n",
      "\n",
      "  beautifulsoup4     conda-forge/linux-64::beautifulsoup4-4.9.0-py36h9f0ad1d_0\n",
      "  soupsieve          conda-forge/linux-64::soupsieve-1.9.4-py36h9f0ad1d_1\n",
      "\n",
      "\n",
      "\n",
      "Downloading and Extracting Packages\n",
      "soupsieve-1.9.4      | 58 KB     | ##################################### | 100% \n",
      "beautifulsoup4-4.9.0 | 160 KB    | ##################################### | 100% \n",
      "Preparing transaction: done\n",
      "Verifying transaction: done\n",
      "Executing transaction: done\n",
      "Collecting package metadata (current_repodata.json): done\n",
      "Solving environment: done\n",
      "\n",
      "## Package Plan ##\n",
      "\n",
      "  environment location: /home/jupyterlab/conda/envs/python\n",
      "\n",
      "  added / updated specs:\n",
      "    - lxml\n",
      "\n",
      "\n",
      "The following packages will be downloaded:\n",
      "\n",
      "    package                    |            build\n",
      "    ---------------------------|-----------------\n",
      "    libxslt-1.1.33             |       h7d1a2b0_0         426 KB\n",
      "    lxml-3.8.0                 |           py36_0         3.8 MB  conda-forge\n",
      "    ------------------------------------------------------------\n",
      "                                           Total:         4.2 MB\n",
      "\n",
      "The following NEW packages will be INSTALLED:\n",
      "\n",
      "  libxslt            pkgs/main/linux-64::libxslt-1.1.33-h7d1a2b0_0\n",
      "  lxml               conda-forge/linux-64::lxml-3.8.0-py36_0\n",
      "\n",
      "\n",
      "\n",
      "Downloading and Extracting Packages\n",
      "lxml-3.8.0           | 3.8 MB    | ##################################### | 100% \n",
      "libxslt-1.1.33       | 426 KB    | ##################################### | 100% \n",
      "Preparing transaction: done\n",
      "Verifying transaction: done\n",
      "Executing transaction: done\n",
      "Collecting package metadata (current_repodata.json): done\n",
      "Solving environment: done\n",
      "\n",
      "## Package Plan ##\n",
      "\n",
      "  environment location: /home/jupyterlab/conda/envs/python\n",
      "\n",
      "  added / updated specs:\n",
      "    - geocoder\n",
      "\n",
      "\n",
      "The following packages will be downloaded:\n",
      "\n",
      "    package                    |            build\n",
      "    ---------------------------|-----------------\n",
      "    chardet-3.0.4              |py36h9f0ad1d_1006         188 KB  conda-forge\n",
      "    click-7.1.1                |     pyh8c360ce_0          64 KB  conda-forge\n",
      "    cryptography-2.8           |   py36h45558ae_2         628 KB  conda-forge\n",
      "    future-0.18.2              |   py36h9f0ad1d_1         714 KB  conda-forge\n",
      "    geocoder-1.38.1            |             py_1          53 KB  conda-forge\n",
      "    pysocks-1.7.1              |   py36h9f0ad1d_1          27 KB  conda-forge\n",
      "    ratelim-0.1.6              |             py_2           6 KB  conda-forge\n",
      "    urllib3-1.25.8             |   py36h9f0ad1d_1         160 KB  conda-forge\n",
      "    ------------------------------------------------------------\n",
      "                                           Total:         1.8 MB\n",
      "\n",
      "The following NEW packages will be INSTALLED:\n",
      "\n",
      "  chardet            conda-forge/linux-64::chardet-3.0.4-py36h9f0ad1d_1006\n",
      "  click              conda-forge/noarch::click-7.1.1-pyh8c360ce_0\n",
      "  cryptography       conda-forge/linux-64::cryptography-2.8-py36h45558ae_2\n",
      "  decorator          conda-forge/noarch::decorator-4.4.2-py_0\n",
      "  future             conda-forge/linux-64::future-0.18.2-py36h9f0ad1d_1\n",
      "  geocoder           conda-forge/noarch::geocoder-1.38.1-py_1\n",
      "  idna               conda-forge/noarch::idna-2.9-py_1\n",
      "  pyopenssl          conda-forge/noarch::pyopenssl-19.1.0-py_1\n",
      "  pysocks            conda-forge/linux-64::pysocks-1.7.1-py36h9f0ad1d_1\n",
      "  ratelim            conda-forge/noarch::ratelim-0.1.6-py_2\n",
      "  requests           conda-forge/noarch::requests-2.23.0-pyh8c360ce_2\n",
      "  urllib3            conda-forge/linux-64::urllib3-1.25.8-py36h9f0ad1d_1\n",
      "\n",
      "\n",
      "\n",
      "Downloading and Extracting Packages\n",
      "future-0.18.2        | 714 KB    | ##################################### | 100% \n",
      "click-7.1.1          | 64 KB     | ##################################### | 100% \n",
      "chardet-3.0.4        | 188 KB    | ##################################### | 100% \n",
      "pysocks-1.7.1        | 27 KB     | ##################################### | 100% \n",
      "geocoder-1.38.1      | 53 KB     | ##################################### | 100% \n",
      "cryptography-2.8     | 628 KB    | ##################################### | 100% \n",
      "ratelim-0.1.6        | 6 KB      | ##################################### | 100% \n",
      "urllib3-1.25.8       | 160 KB    | ##################################### | 100% \n",
      "Preparing transaction: done\n",
      "Verifying transaction: done\n",
      "Executing transaction: done\n"
     ]
    }
   ],
   "source": [
    "!conda install -c conda-forge BeautifulSoup4 --yes\n",
    "!conda install -c conda-forge lxml --yes\n",
    "!conda install -c conda-forge geocoder --yes"
   ]
  },
  {
   "cell_type": "code",
   "execution_count": 3,
   "metadata": {},
   "outputs": [
    {
     "name": "stdout",
     "output_type": "stream",
     "text": [
      "Collecting package metadata (current_repodata.json): done\n",
      "Solving environment: done\n",
      "\n",
      "# All requested packages already installed.\n",
      "\n",
      "Collecting package metadata (current_repodata.json): done\n",
      "Solving environment: done\n",
      "\n",
      "# All requested packages already installed.\n",
      "\n"
     ]
    }
   ],
   "source": [
    "!conda install -c conda-forge html5lib --yes\n",
    "!conda install -c conda-forge requests --yes\n",
    "\n",
    "from bs4 import BeautifulSoup\n",
    "import requests\n",
    "import pandas as pd"
   ]
  },
  {
   "cell_type": "code",
   "execution_count": 6,
   "metadata": {},
   "outputs": [
    {
     "name": "stdout",
     "output_type": "stream",
     "text": [
      "    Postal code            Borough  \\\n",
      "0          M1A       Not assigned    \n",
      "1          M2A       Not assigned    \n",
      "2          M3A         North York    \n",
      "3          M4A         North York    \n",
      "4          M5A   Downtown Toronto    \n",
      "..          ...                ...   \n",
      "175        M5Z       Not assigned    \n",
      "176        M6Z       Not assigned    \n",
      "177        M7Z       Not assigned    \n",
      "178        M8Z          Etobicoke    \n",
      "179        M9Z       Not assigned    \n",
      "\n",
      "                                          Neighborhood  \n",
      "0                                                       \n",
      "1                                                       \n",
      "2                                           Parkwoods   \n",
      "3                                    Victoria Village   \n",
      "4                          Regent Park / Harbourfront   \n",
      "..                                                 ...  \n",
      "175                                                     \n",
      "176                                                     \n",
      "177                                                     \n",
      "178  Mimico NW / The Queensway West / South of Bloo...  \n",
      "179                                                     \n",
      "\n",
      "[180 rows x 3 columns]\n"
     ]
    }
   ],
   "source": [
    "page = requests.get('https://en.wikipedia.org/wiki/List_of_postal_codes_of_Canada:_M')\n",
    "html_file = page.content\n",
    "soup = BeautifulSoup(html_file, 'lxml')\n",
    "\n",
    "My_table = soup.find('table',{'class':'wikitable'})\n",
    "table_rows = My_table.find_all('tr')\n",
    "row_data = []\n",
    "\n",
    "for tr in table_rows:\n",
    "    td = tr.find_all('td')\n",
    "    row = [i.text for i in td]\n",
    "    row_data.append(row)\n",
    "    \n",
    "# print(row_data)\n",
    "  \n",
    "df = pd.DataFrame()\n",
    "df = row_data\n",
    "df[0] = My_table.find_all('th')\n",
    "\n",
    "t = []\n",
    "for tt in df[0]:\n",
    "    tt = str(tt).replace('<th>','')\n",
    "    tt = str(tt).replace('</th>','')\n",
    "    tt = str(tt).replace('\\n','')\n",
    "    t.append(tt)\n",
    "\n",
    "# df = str(df)\n",
    "\n",
    "df2 = pd.DataFrame(df[1:len(df)], columns=t)\n",
    "df2 = df2.replace('\\n',' ', regex=True)\n",
    "\n",
    "print(df2)"
   ]
  },
  {
   "cell_type": "code",
   "execution_count": 9,
   "metadata": {},
   "outputs": [
    {
     "name": "stdout",
     "output_type": "stream",
     "text": [
      "    Postal code            Borough  \\\n",
      "0          M3A         North York    \n",
      "1          M4A         North York    \n",
      "2          M5A   Downtown Toronto    \n",
      "3          M6A         North York    \n",
      "4          M7A   Downtown Toronto    \n",
      "..          ...                ...   \n",
      "98         M8X          Etobicoke    \n",
      "99         M4Y   Downtown Toronto    \n",
      "100        M7Y       East Toronto    \n",
      "101        M8Y          Etobicoke    \n",
      "102        M8Z          Etobicoke    \n",
      "\n",
      "                                          Neighborhood  \n",
      "0                                           Parkwoods   \n",
      "1                                    Victoria Village   \n",
      "2                          Regent Park / Harbourfront   \n",
      "3                   Lawrence Manor / Lawrence Heights   \n",
      "4        Queen's Park / Ontario Provincial Government   \n",
      "..                                                 ...  \n",
      "98   The Kingsway / Montgomery Road  / Old Mill North   \n",
      "99                               Church and Wellesley   \n",
      "100             Business reply mail Processing CentrE   \n",
      "101  Old Mill South / King's Mill Park / Sunnylea /...  \n",
      "102  Mimico NW / The Queensway West / South of Bloo...  \n",
      "\n",
      "[103 rows x 3 columns]\n"
     ]
    }
   ],
   "source": [
    "df2.drop(['index'], axis=1, inplace = True)\n",
    "print(df2)"
   ]
  },
  {
   "cell_type": "code",
   "execution_count": 33,
   "metadata": {},
   "outputs": [
    {
     "data": {
      "text/plain": [
       "\"\\nimport geocoder # import geocoder\\n\\nrow_ll = []\\n\\nfor num in range (0, len(df2)):\\n    print(df2.iloc[num]['Borough'])\\n    print(df2.iloc[num]['Postal code'])\\n    \\n    # initialize your variable to None\\n    lat_lng_coords = None\\n\\n    # loop until you get the coordinates\\n    while(lat_lng_coords is None):\\n        g = geocoder.google('{}, Toronto, Ontario'.format(df2.iloc[num]['Postal code']))\\n        lat_lng_coords = g.latlng\\n    \\n    row_ll.append(lat_lng_coords)\\n\\nprint(row_ll)\\n\""
      ]
     },
     "execution_count": 33,
     "metadata": {},
     "output_type": "execute_result"
    }
   ],
   "source": [
    "\"\"\"\n",
    "import geocoder # import geocoder\n",
    "\n",
    "row_ll = []\n",
    "\n",
    "for num in range (0, len(df2)):\n",
    "    print(df2.iloc[num]['Borough'])\n",
    "    print(df2.iloc[num]['Postal code'])\n",
    "    \n",
    "    # initialize your variable to None\n",
    "    lat_lng_coords = None\n",
    "\n",
    "    # loop until you get the coordinates\n",
    "    while(lat_lng_coords is None):\n",
    "        g = geocoder.google('{}, Toronto, Ontario'.format(df2.iloc[num]['Postal code']))\n",
    "        lat_lng_coords = g.latlng\n",
    "    \n",
    "    row_ll.append(lat_lng_coords)\n",
    "\n",
    "print(row_ll)\n",
    "\"\"\""
   ]
  },
  {
   "cell_type": "code",
   "execution_count": 34,
   "metadata": {},
   "outputs": [
    {
     "data": {
      "text/html": [
       "<div>\n",
       "<style scoped>\n",
       "    .dataframe tbody tr th:only-of-type {\n",
       "        vertical-align: middle;\n",
       "    }\n",
       "\n",
       "    .dataframe tbody tr th {\n",
       "        vertical-align: top;\n",
       "    }\n",
       "\n",
       "    .dataframe thead th {\n",
       "        text-align: right;\n",
       "    }\n",
       "</style>\n",
       "<table border=\"1\" class=\"dataframe\">\n",
       "  <thead>\n",
       "    <tr style=\"text-align: right;\">\n",
       "      <th></th>\n",
       "      <th>Postal Code</th>\n",
       "      <th>Latitude</th>\n",
       "      <th>Longitude</th>\n",
       "    </tr>\n",
       "  </thead>\n",
       "  <tbody>\n",
       "    <tr>\n",
       "      <th>0</th>\n",
       "      <td>M1B</td>\n",
       "      <td>43.806686</td>\n",
       "      <td>-79.194353</td>\n",
       "    </tr>\n",
       "    <tr>\n",
       "      <th>1</th>\n",
       "      <td>M1C</td>\n",
       "      <td>43.784535</td>\n",
       "      <td>-79.160497</td>\n",
       "    </tr>\n",
       "    <tr>\n",
       "      <th>2</th>\n",
       "      <td>M1E</td>\n",
       "      <td>43.763573</td>\n",
       "      <td>-79.188711</td>\n",
       "    </tr>\n",
       "    <tr>\n",
       "      <th>3</th>\n",
       "      <td>M1G</td>\n",
       "      <td>43.770992</td>\n",
       "      <td>-79.216917</td>\n",
       "    </tr>\n",
       "    <tr>\n",
       "      <th>4</th>\n",
       "      <td>M1H</td>\n",
       "      <td>43.773136</td>\n",
       "      <td>-79.239476</td>\n",
       "    </tr>\n",
       "  </tbody>\n",
       "</table>\n",
       "</div>"
      ],
      "text/plain": [
       "  Postal Code   Latitude  Longitude\n",
       "0         M1B  43.806686 -79.194353\n",
       "1         M1C  43.784535 -79.160497\n",
       "2         M1E  43.763573 -79.188711\n",
       "3         M1G  43.770992 -79.216917\n",
       "4         M1H  43.773136 -79.239476"
      ]
     },
     "execution_count": 34,
     "metadata": {},
     "output_type": "execute_result"
    }
   ],
   "source": [
    "customers_df = pd.read_csv('Geospatial_Coordinates.csv')\n",
    "customers_df.head()"
   ]
  },
  {
   "cell_type": "code",
   "execution_count": 52,
   "metadata": {},
   "outputs": [
    {
     "name": "stdout",
     "output_type": "stream",
     "text": [
      "Latitude     43.763573\n",
      "Longitude   -79.188711\n",
      "Name: M1E, dtype: float64\n"
     ]
    }
   ],
   "source": [
    "customers_df = pd.DataFrame(customers_df)\n",
    "customers_df.set_index('Postal Code', inplace=True)\n",
    "print(customers_df.loc['M1E'])"
   ]
  },
  {
   "cell_type": "code",
   "execution_count": 79,
   "metadata": {},
   "outputs": [
    {
     "name": "stdout",
     "output_type": "stream",
     "text": [
      "Downtown Toronto \n",
      "43.6542599 -79.3606359\n",
      "[[43.6542599, -79.3606359]]\n"
     ]
    }
   ],
   "source": [
    "num = 2\n",
    "print(df2.iloc[num]['Borough'])\n",
    "t = df2.iloc[num]['Postal code'].strip()\n",
    "tt = customers_df.loc[t]\n",
    "print(tt['Latitude'],tt['Longitude'])\n",
    "row_ll.append([tt['Latitude'],tt['Longitude']])\n",
    "print(row_ll)"
   ]
  },
  {
   "cell_type": "code",
   "execution_count": 88,
   "metadata": {},
   "outputs": [
    {
     "name": "stdout",
     "output_type": "stream",
     "text": [
      "  Postal code            Borough  \\\n",
      "0        M3A         North York    \n",
      "1        M4A         North York    \n",
      "2        M5A   Downtown Toronto    \n",
      "3        M6A         North York    \n",
      "4        M7A   Downtown Toronto    \n",
      "\n",
      "                                    Neighborhood  Longitude   Latitude  \n",
      "0                                     Parkwoods  -79.329656  43.753259  \n",
      "1                              Victoria Village  -79.315572  43.725882  \n",
      "2                    Regent Park / Harbourfront  -79.360636  43.654260  \n",
      "3             Lawrence Manor / Lawrence Heights  -79.464763  43.718518  \n",
      "4  Queen's Park / Ontario Provincial Government  -79.389494  43.662301  \n"
     ]
    }
   ],
   "source": [
    "row_long = []\n",
    "row_lat = []\n",
    "\n",
    "for num in range (0, len(df2)):\n",
    "#    print(df2.iloc[num]['Borough'])\n",
    "    t = df2.iloc[num]['Postal code'].strip()\n",
    "    tt = customers_df.loc[t]\n",
    "#    print(tt['Latitude'],tt['Longitude'])\n",
    "    row_long.append(tt['Longitude'])\n",
    "    row_lat.append(tt['Latitude'])\n",
    "\n",
    "df2['Latitude'] = row_lat\n",
    "df2['Longitude'] = row_long\n",
    "print(df2.head())"
   ]
  }
 ],
 "metadata": {
  "kernelspec": {
   "display_name": "Python",
   "language": "python",
   "name": "conda-env-python-py"
  },
  "language_info": {
   "codemirror_mode": {
    "name": "ipython",
    "version": 3
   },
   "file_extension": ".py",
   "mimetype": "text/x-python",
   "name": "python",
   "nbconvert_exporter": "python",
   "pygments_lexer": "ipython3",
   "version": "3.6.10"
  }
 },
 "nbformat": 4,
 "nbformat_minor": 4
}
